{
 "cells": [
  {
   "cell_type": "code",
   "execution_count": 1,
   "id": "c00c1333",
   "metadata": {},
   "outputs": [],
   "source": [
    "def print_data_stats(data):\n",
    "    # Print metrics of the data\n",
    "    print(\"Ticker and exchange:\", data['symbol'].unique()[0], data['exchange'].unique()[0])\n",
    "    print(\"Data shape:\", data.shape)\n",
    "    print(\"Days in range:\", (data.index.max() - data.index.min()))\n",
    "    print(\"Minimum date:\", data.index.min())\n",
    "    print(\"Maximum date:\", data.index.max())\n",
    "\n",
    "    total_rows = len(data)\n",
    "    total_minutes = (data.index.max() - data.index.min()).total_seconds() / 60\n",
    "    rows_per_minute = total_rows / total_minutes\n",
    "    rows_per_hour = total_rows /  total_minutes * 60\n",
    "    rows_per_day = total_rows /  total_minutes * 60 * 24\n",
    "\n",
    "    print(f\"Rows per day: {rows_per_day:.2f}\")\n",
    "    print(f\"Rows per hour: {rows_per_hour:.2f}\")\n",
    "    print(f\"Rows per minute: {rows_per_minute:.2f}\")"
   ]
  },
  {
   "cell_type": "markdown",
   "id": "8defbf83",
   "metadata": {},
   "source": [
    "Starting with candles that should map exactly to Nautilus Bars"
   ]
  },
  {
   "cell_type": "code",
   "execution_count": 2,
   "id": "14a0ac5b",
   "metadata": {},
   "outputs": [
    {
     "name": "stdout",
     "output_type": "stream",
     "text": [
      "Downloading data from LakeAPI for BTC-USDT on BINANCE...\n"
     ]
    },
    {
     "data": {
      "application/vnd.jupyter.widget-view+json": {
       "model_id": "a8e51cb874b146c988b4a950f78516c1",
       "version_major": 2,
       "version_minor": 0
      },
      "text/plain": [
       "  0%|          | 0/4 [00:00<?, ?it/s]"
      ]
     },
     "metadata": {},
     "output_type": "display_data"
    },
    {
     "name": "stdout",
     "output_type": "stream",
     "text": [
      "Ticker and exchange: BTC-USDT BINANCE\n",
      "Data shape: (5760, 11)\n",
      "Days in range: 3 days 23:59:00\n",
      "Minimum date: 2023-08-20 00:00:00\n",
      "Maximum date: 2023-08-23 23:59:00\n",
      "Rows per day: 1440.25\n",
      "Rows per hour: 60.01\n",
      "Rows per minute: 1.00\n"
     ]
    },
    {
     "data": {
      "application/vnd.microsoft.datawrangler.viewer.v0+json": {
       "columns": [
        {
         "name": "received_time",
         "rawType": "datetime64[ns]",
         "type": "datetime"
        },
        {
         "name": "origin_time",
         "rawType": "datetime64[ns]",
         "type": "datetime"
        },
        {
         "name": "open",
         "rawType": "float64",
         "type": "float"
        },
        {
         "name": "high",
         "rawType": "float64",
         "type": "float"
        },
        {
         "name": "low",
         "rawType": "float64",
         "type": "float"
        },
        {
         "name": "close",
         "rawType": "float64",
         "type": "float"
        },
        {
         "name": "volume",
         "rawType": "float64",
         "type": "float"
        },
        {
         "name": "trades",
         "rawType": "Int64",
         "type": "integer"
        },
        {
         "name": "start",
         "rawType": "float64",
         "type": "float"
        },
        {
         "name": "stop",
         "rawType": "float64",
         "type": "float"
        },
        {
         "name": "exchange",
         "rawType": "category",
         "type": "unknown"
        },
        {
         "name": "symbol",
         "rawType": "category",
         "type": "unknown"
        }
       ],
       "conversionMethod": "pd.DataFrame",
       "ref": "a6009c16-8b99-4c05-85b0-64a9ae92e3c8",
       "rows": [
        [
         "2023-08-20 00:00:00",
         "2023-08-20 00:00:00",
         "26100.01",
         "26100.01",
         "26089.42",
         "26089.42",
         "20.56981",
         "434",
         "1692489600.0",
         "1692489660.0",
         "BINANCE",
         "BTC-USDT"
        ],
        [
         "2023-08-20 00:01:00",
         "2023-08-20 00:01:00",
         "26089.42",
         "26089.43",
         "26087.9",
         "26087.91",
         "6.86075",
         "235",
         "1692489660.0",
         "1692489720.0",
         "BINANCE",
         "BTC-USDT"
        ],
        [
         "2023-08-20 00:02:00",
         "2023-08-20 00:02:00",
         "26087.9",
         "26087.91",
         "26087.9",
         "26087.91",
         "2.96833",
         "210",
         "1692489720.0",
         "1692489780.0",
         "BINANCE",
         "BTC-USDT"
        ],
        [
         "2023-08-20 00:03:00",
         "2023-08-20 00:03:00",
         "26087.9",
         "26087.91",
         "26087.9",
         "26087.91",
         "3.85351",
         "291",
         "1692489780.0",
         "1692489840.0",
         "BINANCE",
         "BTC-USDT"
        ],
        [
         "2023-08-20 00:04:00",
         "2023-08-20 00:04:00",
         "26087.9",
         "26087.91",
         "26085.17",
         "26085.18",
         "11.8741",
         "246",
         "1692489840.0",
         "1692489900.0",
         "BINANCE",
         "BTC-USDT"
        ]
       ],
       "shape": {
        "columns": 11,
        "rows": 5
       }
      },
      "text/html": [
       "<div>\n",
       "<style scoped>\n",
       "    .dataframe tbody tr th:only-of-type {\n",
       "        vertical-align: middle;\n",
       "    }\n",
       "\n",
       "    .dataframe tbody tr th {\n",
       "        vertical-align: top;\n",
       "    }\n",
       "\n",
       "    .dataframe thead th {\n",
       "        text-align: right;\n",
       "    }\n",
       "</style>\n",
       "<table border=\"1\" class=\"dataframe\">\n",
       "  <thead>\n",
       "    <tr style=\"text-align: right;\">\n",
       "      <th></th>\n",
       "      <th>origin_time</th>\n",
       "      <th>open</th>\n",
       "      <th>high</th>\n",
       "      <th>low</th>\n",
       "      <th>close</th>\n",
       "      <th>volume</th>\n",
       "      <th>trades</th>\n",
       "      <th>start</th>\n",
       "      <th>stop</th>\n",
       "      <th>exchange</th>\n",
       "      <th>symbol</th>\n",
       "    </tr>\n",
       "    <tr>\n",
       "      <th>received_time</th>\n",
       "      <th></th>\n",
       "      <th></th>\n",
       "      <th></th>\n",
       "      <th></th>\n",
       "      <th></th>\n",
       "      <th></th>\n",
       "      <th></th>\n",
       "      <th></th>\n",
       "      <th></th>\n",
       "      <th></th>\n",
       "      <th></th>\n",
       "    </tr>\n",
       "  </thead>\n",
       "  <tbody>\n",
       "    <tr>\n",
       "      <th>2023-08-20 00:00:00</th>\n",
       "      <td>2023-08-20 00:00:00</td>\n",
       "      <td>26100.01</td>\n",
       "      <td>26100.01</td>\n",
       "      <td>26089.42</td>\n",
       "      <td>26089.42</td>\n",
       "      <td>20.56981</td>\n",
       "      <td>434</td>\n",
       "      <td>1.692490e+09</td>\n",
       "      <td>1.692490e+09</td>\n",
       "      <td>BINANCE</td>\n",
       "      <td>BTC-USDT</td>\n",
       "    </tr>\n",
       "    <tr>\n",
       "      <th>2023-08-20 00:01:00</th>\n",
       "      <td>2023-08-20 00:01:00</td>\n",
       "      <td>26089.42</td>\n",
       "      <td>26089.43</td>\n",
       "      <td>26087.90</td>\n",
       "      <td>26087.91</td>\n",
       "      <td>6.86075</td>\n",
       "      <td>235</td>\n",
       "      <td>1.692490e+09</td>\n",
       "      <td>1.692490e+09</td>\n",
       "      <td>BINANCE</td>\n",
       "      <td>BTC-USDT</td>\n",
       "    </tr>\n",
       "    <tr>\n",
       "      <th>2023-08-20 00:02:00</th>\n",
       "      <td>2023-08-20 00:02:00</td>\n",
       "      <td>26087.90</td>\n",
       "      <td>26087.91</td>\n",
       "      <td>26087.90</td>\n",
       "      <td>26087.91</td>\n",
       "      <td>2.96833</td>\n",
       "      <td>210</td>\n",
       "      <td>1.692490e+09</td>\n",
       "      <td>1.692490e+09</td>\n",
       "      <td>BINANCE</td>\n",
       "      <td>BTC-USDT</td>\n",
       "    </tr>\n",
       "    <tr>\n",
       "      <th>2023-08-20 00:03:00</th>\n",
       "      <td>2023-08-20 00:03:00</td>\n",
       "      <td>26087.90</td>\n",
       "      <td>26087.91</td>\n",
       "      <td>26087.90</td>\n",
       "      <td>26087.91</td>\n",
       "      <td>3.85351</td>\n",
       "      <td>291</td>\n",
       "      <td>1.692490e+09</td>\n",
       "      <td>1.692490e+09</td>\n",
       "      <td>BINANCE</td>\n",
       "      <td>BTC-USDT</td>\n",
       "    </tr>\n",
       "    <tr>\n",
       "      <th>2023-08-20 00:04:00</th>\n",
       "      <td>2023-08-20 00:04:00</td>\n",
       "      <td>26087.90</td>\n",
       "      <td>26087.91</td>\n",
       "      <td>26085.17</td>\n",
       "      <td>26085.18</td>\n",
       "      <td>11.87410</td>\n",
       "      <td>246</td>\n",
       "      <td>1.692490e+09</td>\n",
       "      <td>1.692490e+09</td>\n",
       "      <td>BINANCE</td>\n",
       "      <td>BTC-USDT</td>\n",
       "    </tr>\n",
       "  </tbody>\n",
       "</table>\n",
       "</div>"
      ],
      "text/plain": [
       "                            origin_time      open      high       low  \\\n",
       "received_time                                                           \n",
       "2023-08-20 00:00:00 2023-08-20 00:00:00  26100.01  26100.01  26089.42   \n",
       "2023-08-20 00:01:00 2023-08-20 00:01:00  26089.42  26089.43  26087.90   \n",
       "2023-08-20 00:02:00 2023-08-20 00:02:00  26087.90  26087.91  26087.90   \n",
       "2023-08-20 00:03:00 2023-08-20 00:03:00  26087.90  26087.91  26087.90   \n",
       "2023-08-20 00:04:00 2023-08-20 00:04:00  26087.90  26087.91  26085.17   \n",
       "\n",
       "                        close    volume  trades         start          stop  \\\n",
       "received_time                                                                 \n",
       "2023-08-20 00:00:00  26089.42  20.56981     434  1.692490e+09  1.692490e+09   \n",
       "2023-08-20 00:01:00  26087.91   6.86075     235  1.692490e+09  1.692490e+09   \n",
       "2023-08-20 00:02:00  26087.91   2.96833     210  1.692490e+09  1.692490e+09   \n",
       "2023-08-20 00:03:00  26087.91   3.85351     291  1.692490e+09  1.692490e+09   \n",
       "2023-08-20 00:04:00  26085.18  11.87410     246  1.692490e+09  1.692490e+09   \n",
       "\n",
       "                    exchange    symbol  \n",
       "received_time                           \n",
       "2023-08-20 00:00:00  BINANCE  BTC-USDT  \n",
       "2023-08-20 00:01:00  BINANCE  BTC-USDT  \n",
       "2023-08-20 00:02:00  BINANCE  BTC-USDT  \n",
       "2023-08-20 00:03:00  BINANCE  BTC-USDT  \n",
       "2023-08-20 00:04:00  BINANCE  BTC-USDT  "
      ]
     },
     "metadata": {},
     "output_type": "display_data"
    },
    {
     "data": {
      "image/png": "[encoded data removed]",
      "text/plain": [
       "<Figure size 1200x600 with 1 Axes>"
      ]
     },
     "metadata": {},
     "output_type": "display_data"
    }
   ],
   "source": [
    "import lakeapi\n",
    "import datetime\n",
    "import pandas as pd\n",
    "from decimal import Decimal\n",
    "from typing import List\n",
    "import matplotlib.pyplot as plt\n",
    "\n",
    "lakeapi.use_sample_data(anonymous_access=True)\n",
    "\n",
    "# Configuration\n",
    "SYMBOL = \"BTC-USDT\"\n",
    "VENUE = \"BINANCE\"\n",
    "START_DATE = datetime.datetime(2023, 8, 20)\n",
    "END_DATE = datetime.datetime(2023, 8, 24)\n",
    "\n",
    "# Download data from LakeAPI\n",
    "print(f\"Downloading data from LakeAPI for {SYMBOL} on {VENUE}...\")\n",
    "\n",
    "# 2. Get candle data for strategy signals\n",
    "candles = lakeapi.load_data(\n",
    "    table=\"candles\",\n",
    "    start=START_DATE,\n",
    "    end=END_DATE,\n",
    "    symbols=[SYMBOL],\n",
    "    exchanges=[VENUE],\n",
    ")\n",
    "candles.set_index('received_time', inplace=True)\n",
    "print_data_stats(candles)\n",
    "display(candles.head())\n",
    "\n",
    "# Plot time series\n",
    "plt.figure(figsize=(12, 6))\n",
    "plt.plot(candles.index, candles['close'], label='Price', color='blue')\n",
    "\n",
    "# Formatting the plot\n",
    "plt.xlabel(\"Received Time\")\n",
    "plt.ylabel(\"Price\")\n",
    "plt.title(\"Candlestick Time Series\")\n",
    "plt.legend()\n",
    "plt.grid()\n",
    "\n",
    "# Show the plot\n",
    "plt.show()"
   ]
  },
  {
   "cell_type": "code",
   "execution_count": 3,
   "id": "732a46ef",
   "metadata": {},
   "outputs": [],
   "source": [
    "# NautilusTrader imports\n",
    "import nautilus_trader as nt\n",
    "from nautilus_trader.model.objects import Price, Quantity\n",
    "from nautilus_trader.model.identifiers import InstrumentId, StrategyId, TraderId\n",
    "from nautilus_trader.model.data import BarType, Bar, TradeTick\n",
    "from nautilus_trader.model.currencies import USD\n",
    "from nautilus_trader.model.enums import BarAggregation, PriceType\n",
    "from nautilus_trader.trading.strategy import Strategy\n",
    "from nautilus_trader.persistence.wranglers import TradeTickDataWrangler, BarDataWrangler\n",
    "from nautilus_trader.test_kit.providers import TestDataProvider\n",
    "from nautilus_trader.test_kit.providers import TestInstrumentProvider\n",
    "from nautilus_trader.backtest.engine import BacktestEngine\n",
    "from nautilus_trader.backtest.engine import BacktestEngineConfig\n",
    "from nautilus_trader.examples.strategies.ema_cross_twap import EMACrossTWAP\n",
    "from nautilus_trader.examples.strategies.ema_cross_twap import EMACrossTWAPConfig\n",
    "from nautilus_trader.examples.algorithms.twap import TWAPExecAlgorithm\n",
    "from nautilus_trader.model import BarType\n",
    "from nautilus_trader.model import Money\n",
    "from nautilus_trader.model import TraderId\n",
    "from nautilus_trader.model import Venue\n",
    "from nautilus_trader.model.currencies import BTC\n",
    "from nautilus_trader.model.currencies import USDT\n",
    "from nautilus_trader.model.enums import AccountType\n",
    "from nautilus_trader.model.enums import OmsType\n",
    "from pathlib import Path\n",
    "from nautilus_trader.persistence.catalog import ParquetDataCatalog\n"
   ]
  },
  {
   "cell_type": "markdown",
   "id": "1de7473b",
   "metadata": {},
   "source": [
    "Nautilus can use raw DataFrames, but sometimes they need to be exactly matching its requirements, including the column order. This is to appease BarDataWrangler"
   ]
  },
  {
   "cell_type": "code",
   "execution_count": 4,
   "id": "19a3543f",
   "metadata": {},
   "outputs": [],
   "source": [
    "\n",
    "def normalize_dataframe_for_nautilus(df: pd.DataFrame) -> pd.DataFrame:\n",
    "    \"\"\"Normalize the DataFrame to match NautilusTrader's expected format.\"\"\"\n",
    "    normalized = df.copy()\n",
    "    # Rename columns to match NautilusTrader's expected format\n",
    "    # Expects columns ['open', 'high', 'low', 'close', 'volume'] with 'timestamp' index.\n",
    "    column_map = {\n",
    "        'Open': 'open',\n",
    "        'High': 'high',\n",
    "        'Low': 'low',\n",
    "        'Close': 'close',\n",
    "        'Volume': 'volume',\n",
    "    }\n",
    "    normalized = normalized.rename(columns=column_map)\n",
    "    # Ensure correct order\n",
    "    normalized = normalized[['open', 'high', 'low', 'close', 'volume']]\n",
    "    # Set index name to 'timestamp'\n",
    "    normalized.index.name = 'timestamp'\n",
    "    return normalized\n"
   ]
  },
  {
   "cell_type": "markdown",
   "id": "a749c6a7",
   "metadata": {},
   "source": [
    "First, use its low-level API to perform the backtest on data converted from LakeAPI"
   ]
  },
  {
   "cell_type": "code",
   "execution_count": 5,
   "id": "02d353f7",
   "metadata": {},
   "outputs": [
    {
     "name": "stdout",
     "output_type": "stream",
     "text": [
      "Backtest completed.\n"
     ]
    }
   ],
   "source": [
    "# Initialize the instrument which matches the data\n",
    "instrument = TestInstrumentProvider.btcusdt_binance()\n",
    "\n",
    "bar_type = BarType.from_str(\"BTCUSDT.BINANCE-1-MINUTE-LAST-EXTERNAL\")\n",
    "# Process into Nautilus objects\n",
    "wrangler = BarDataWrangler(instrument=instrument, bar_type=bar_type)\n",
    "bars = wrangler.process(normalize_dataframe_for_nautilus(candles))\n",
    "\n",
    "# Configure backtest engine\n",
    "config = BacktestEngineConfig(trader_id=TraderId(\"BACKTESTER-001\"))\n",
    "\n",
    "# Build the backtest engine\n",
    "engine = nt.backtest.engine.BacktestEngine(config=config)\n",
    "\n",
    "# Configure your strategy\n",
    "strategy_config = EMACrossTWAPConfig(\n",
    "    instrument_id=instrument.id,\n",
    "    bar_type=bar_type,\n",
    "    trade_size=Decimal(\"0.5\"),\n",
    "    fast_ema_period=10,\n",
    "    slow_ema_period=50,\n",
    "    twap_horizon_secs=10.0,\n",
    "    twap_interval_secs=10.0,\n",
    ")\n",
    "\n",
    "# Add a trading venue (multiple venues possible)\n",
    "venue_config = nt.backtest.config.BacktestVenueConfig(\n",
    "    name=\"BINANCE\",\n",
    "    oms_type=OmsType.NETTING,\n",
    "    account_type=AccountType.CASH,  # Spot CASH account (not for perpetuals or futures)\n",
    "    base_currency=None,  # Multi-currency account\n",
    "    starting_balances=[Money(20_000.0, USDT), Money(1, BTC)],\n",
    ")\n",
    "\n",
    "# Starting portfolio value in terms of USDT and BTC\n",
    "start_portfolio_usdt_value = sum([balance.as_double() if balance.currency.code == 'USDT' \n",
    "                       else balance.as_double() * candles['open'].iloc[0] \n",
    "                       for balance in venue_config.starting_balances])\n",
    "start_portfolio_btc_value = start_portfolio_usdt_value / candles['open'].iloc[0]\n",
    "\n",
    "engine.add_venue(venue=Venue(venue_config.name), oms_type=venue_config.oms_type, \n",
    "                 account_type=venue_config.account_type, starting_balances=venue_config.starting_balances)\n",
    "    # Add instrument(s)\n",
    "engine.add_instrument(instrument)\n",
    "\n",
    "# Add data\n",
    "engine.add_data(bars)\n",
    "\n",
    "# Instantiate and add your strategy\n",
    "strategy = EMACrossTWAP(config=strategy_config)\n",
    "engine.add_strategy(strategy=strategy)\n",
    "\n",
    "# Instantiate and add your execution algorithm\n",
    "exec_algorithm = TWAPExecAlgorithm()  # Using defaults\n",
    "engine.add_exec_algorithm(exec_algorithm)\n",
    "\n",
    "# Run the engine (from start to end of data)\n",
    "result = engine.run()\n",
    "\n",
    "print(\"Backtest completed.\")\n"
   ]
  },
  {
   "cell_type": "markdown",
   "id": "678ca1e1",
   "metadata": {},
   "source": [
    "Note the first row of the positions report. It appears legit, but it's the only row that hasn't rounded its avg_px_close. This transaction seems to cause trouble later."
   ]
  },
  {
   "cell_type": "code",
   "execution_count": 6,
   "id": "52f8e4a4",
   "metadata": {},
   "outputs": [
    {
     "data": {
      "application/vnd.microsoft.datawrangler.viewer.v0+json": {
       "columns": [
        {
         "name": "position_id",
         "rawType": "object",
         "type": "string"
        },
        {
         "name": "opening_order_id",
         "rawType": "object",
         "type": "string"
        },
        {
         "name": "closing_order_id",
         "rawType": "object",
         "type": "string"
        },
        {
         "name": "entry",
         "rawType": "object",
         "type": "string"
        },
        {
         "name": "peak_qty",
         "rawType": "object",
         "type": "string"
        },
        {
         "name": "avg_px_close",
         "rawType": "float64",
         "type": "float"
        },
        {
         "name": "realized_return",
         "rawType": "float64",
         "type": "float"
        },
        {
         "name": "realized_pnl",
         "rawType": "object",
         "type": "string"
        }
       ],
       "conversionMethod": "pd.DataFrame",
       "ref": "2bd58486-2509-4698-a77a-c8cadb0e55ce",
       "rows": [
        [
         "BTCUSDT.BINANCE-EMACrossTWAP-000-045f2b93-fa93-4bb8-94df-064c3742ac33",
         "O-20230820-192400-001-000-61",
         "O-20230820-194300-001-000-62",
         "BUY",
         "0.500000",
         "26122.01989906",
         "-0.00011",
         "-27.54349042 USDT"
        ],
        [
         "BTCUSDT.BINANCE-EMACrossTWAP-000-c6b7dbdb-45de-4ba8-b373-28ae2123b8f9",
         "O-20230820-194400-001-000-64",
         "O-20230820-195500-001-000-65",
         "SELL",
         "0.500000",
         "26132.27",
         "-0.00038",
         "-31.11728000 USDT"
        ],
        [
         "BTCUSDT.BINANCE-EMACrossTWAP-000",
         "O-20230820-195500-001-000-66",
         "O-20230820-195500-001-000-67",
         "BUY",
         "0.500000",
         "26132.27",
         "0.0",
         "-26.13227000 USDT"
        ]
       ],
       "shape": {
        "columns": 7,
        "rows": 3
       }
      },
      "text/html": [
       "<div>\n",
       "<style scoped>\n",
       "    .dataframe tbody tr th:only-of-type {\n",
       "        vertical-align: middle;\n",
       "    }\n",
       "\n",
       "    .dataframe tbody tr th {\n",
       "        vertical-align: top;\n",
       "    }\n",
       "\n",
       "    .dataframe thead th {\n",
       "        text-align: right;\n",
       "    }\n",
       "</style>\n",
       "<table border=\"1\" class=\"dataframe\">\n",
       "  <thead>\n",
       "    <tr style=\"text-align: right;\">\n",
       "      <th></th>\n",
       "      <th>opening_order_id</th>\n",
       "      <th>closing_order_id</th>\n",
       "      <th>entry</th>\n",
       "      <th>peak_qty</th>\n",
       "      <th>avg_px_close</th>\n",
       "      <th>realized_return</th>\n",
       "      <th>realized_pnl</th>\n",
       "    </tr>\n",
       "    <tr>\n",
       "      <th>position_id</th>\n",
       "      <th></th>\n",
       "      <th></th>\n",
       "      <th></th>\n",
       "      <th></th>\n",
       "      <th></th>\n",
       "      <th></th>\n",
       "      <th></th>\n",
       "    </tr>\n",
       "  </thead>\n",
       "  <tbody>\n",
       "    <tr>\n",
       "      <th>BTCUSDT.BINANCE-EMACrossTWAP-000-045f2b93-fa93-4bb8-94df-064c3742ac33</th>\n",
       "      <td>O-20230820-192400-001-000-61</td>\n",
       "      <td>O-20230820-194300-001-000-62</td>\n",
       "      <td>BUY</td>\n",
       "      <td>0.500000</td>\n",
       "      <td>26122.019899</td>\n",
       "      <td>-0.00011</td>\n",
       "      <td>-27.54349042 USDT</td>\n",
       "    </tr>\n",
       "    <tr>\n",
       "      <th>BTCUSDT.BINANCE-EMACrossTWAP-000-c6b7dbdb-45de-4ba8-b373-28ae2123b8f9</th>\n",
       "      <td>O-20230820-194400-001-000-64</td>\n",
       "      <td>O-20230820-195500-001-000-65</td>\n",
       "      <td>SELL</td>\n",
       "      <td>0.500000</td>\n",
       "      <td>26132.270000</td>\n",
       "      <td>-0.00038</td>\n",
       "      <td>-31.11728000 USDT</td>\n",
       "    </tr>\n",
       "    <tr>\n",
       "      <th>BTCUSDT.BINANCE-EMACrossTWAP-000</th>\n",
       "      <td>O-20230820-195500-001-000-66</td>\n",
       "      <td>O-20230820-195500-001-000-67</td>\n",
       "      <td>BUY</td>\n",
       "      <td>0.500000</td>\n",
       "      <td>26132.270000</td>\n",
       "      <td>0.00000</td>\n",
       "      <td>-26.13227000 USDT</td>\n",
       "    </tr>\n",
       "  </tbody>\n",
       "</table>\n",
       "</div>"
      ],
      "text/plain": [
       "                                                                opening_order_id  \\\n",
       "position_id                                                                        \n",
       "BTCUSDT.BINANCE-EMACrossTWAP-000-045f2b93-fa93-...  O-20230820-192400-001-000-61   \n",
       "BTCUSDT.BINANCE-EMACrossTWAP-000-c6b7dbdb-45de-...  O-20230820-194400-001-000-64   \n",
       "BTCUSDT.BINANCE-EMACrossTWAP-000                    O-20230820-195500-001-000-66   \n",
       "\n",
       "                                                                closing_order_id  \\\n",
       "position_id                                                                        \n",
       "BTCUSDT.BINANCE-EMACrossTWAP-000-045f2b93-fa93-...  O-20230820-194300-001-000-62   \n",
       "BTCUSDT.BINANCE-EMACrossTWAP-000-c6b7dbdb-45de-...  O-20230820-195500-001-000-65   \n",
       "BTCUSDT.BINANCE-EMACrossTWAP-000                    O-20230820-195500-001-000-67   \n",
       "\n",
       "                                                   entry  peak_qty  \\\n",
       "position_id                                                          \n",
       "BTCUSDT.BINANCE-EMACrossTWAP-000-045f2b93-fa93-...   BUY  0.500000   \n",
       "BTCUSDT.BINANCE-EMACrossTWAP-000-c6b7dbdb-45de-...  SELL  0.500000   \n",
       "BTCUSDT.BINANCE-EMACrossTWAP-000                     BUY  0.500000   \n",
       "\n",
       "                                                    avg_px_close  \\\n",
       "position_id                                                        \n",
       "BTCUSDT.BINANCE-EMACrossTWAP-000-045f2b93-fa93-...  26122.019899   \n",
       "BTCUSDT.BINANCE-EMACrossTWAP-000-c6b7dbdb-45de-...  26132.270000   \n",
       "BTCUSDT.BINANCE-EMACrossTWAP-000                    26132.270000   \n",
       "\n",
       "                                                    realized_return  \\\n",
       "position_id                                                           \n",
       "BTCUSDT.BINANCE-EMACrossTWAP-000-045f2b93-fa93-...         -0.00011   \n",
       "BTCUSDT.BINANCE-EMACrossTWAP-000-c6b7dbdb-45de-...         -0.00038   \n",
       "BTCUSDT.BINANCE-EMACrossTWAP-000                            0.00000   \n",
       "\n",
       "                                                         realized_pnl  \n",
       "position_id                                                            \n",
       "BTCUSDT.BINANCE-EMACrossTWAP-000-045f2b93-fa93-...  -27.54349042 USDT  \n",
       "BTCUSDT.BINANCE-EMACrossTWAP-000-c6b7dbdb-45de-...  -31.11728000 USDT  \n",
       "BTCUSDT.BINANCE-EMACrossTWAP-000                    -26.13227000 USDT  "
      ]
     },
     "metadata": {},
     "output_type": "display_data"
    }
   ],
   "source": [
    "\n",
    "positions = engine.trader.generate_positions_report()\n",
    "positions = positions[positions['opening_order_id'] >= 'O-20230820-192400-001-000-61']\n",
    "display(positions[['opening_order_id', 'closing_order_id', 'entry', 'peak_qty', 'avg_px_close', 'realized_return', 'realized_pnl']]) "
   ]
  },
  {
   "cell_type": "markdown",
   "id": "73d57a26",
   "metadata": {},
   "source": [
    "Note the sixth row in the `generate_account_report()` results. 0.5 BTC has disappeared, but USDT rose only by a tiny, non-sensical amount. The overall portfolio value dropped for no reason I can fathom, seems like the proceeds from the BTC sale disappeared.\n",
    "\n",
    "Also note there are some fractional BTC on that row, disappearing immediately after. No other rows have them. These rows correspond to the above suspicious transaction."
   ]
  },
  {
   "cell_type": "code",
   "execution_count": 7,
   "id": "87b3019a",
   "metadata": {},
   "outputs": [
    {
     "data": {
      "application/vnd.microsoft.datawrangler.viewer.v0+json": {
       "columns": [
        {
         "name": "index",
         "rawType": "datetime64[ns]",
         "type": "datetime"
        },
        {
         "name": "total",
         "rawType": "object",
         "type": "string"
        },
        {
         "name": "currency",
         "rawType": "object",
         "type": "string"
        }
       ],
       "conversionMethod": "pd.DataFrame",
       "ref": "731bb550-a679-44e7-8c1b-9cacb15a9d94",
       "rows": [
        [
         "2023-08-20 19:24:00",
         "19137.76096500",
         "USDT"
        ],
        [
         "2023-08-20 19:24:00",
         "1.00000000",
         "BTC"
        ],
        [
         "2023-08-20 19:24:00",
         "6062.26853500",
         "USDT"
        ],
        [
         "2023-08-20 19:24:00",
         "1.50000000",
         "BTC"
        ],
        [
         "2023-08-20 19:43:00",
         "6181.17719777",
         "USDT"
        ],
        [
         "2023-08-20 19:43:00",
         "1.00504700",
         "BTC"
        ],
        [
         "2023-08-20 19:43:00",
         "6312.88314446",
         "USDT"
        ],
        [
         "2023-08-20 19:43:00",
         "1.00000000",
         "BTC"
        ],
        [
         "2023-08-20 19:43:00",
         "6312.88314446",
         "USDT"
        ],
        [
         "2023-08-20 19:43:00",
         "1.00000000",
         "BTC"
        ],
        [
         "2023-08-20 19:44:00",
         "19360.96699946",
         "USDT"
        ],
        [
         "2023-08-20 19:44:00",
         "0.50000000",
         "BTC"
        ],
        [
         "2023-08-20 19:55:00",
         "6281.76586446",
         "USDT"
        ],
        [
         "2023-08-20 19:55:00",
         "1.00000000",
         "BTC"
        ],
        [
         "2023-08-20 19:55:00",
         "19334.83472946",
         "USDT"
        ],
        [
         "2023-08-20 19:55:00",
         "0.50000000",
         "BTC"
        ]
       ],
       "shape": {
        "columns": 2,
        "rows": 16
       }
      },
      "text/html": [
       "<div>\n",
       "<style scoped>\n",
       "    .dataframe tbody tr th:only-of-type {\n",
       "        vertical-align: middle;\n",
       "    }\n",
       "\n",
       "    .dataframe tbody tr th {\n",
       "        vertical-align: top;\n",
       "    }\n",
       "\n",
       "    .dataframe thead th {\n",
       "        text-align: right;\n",
       "    }\n",
       "</style>\n",
       "<table border=\"1\" class=\"dataframe\">\n",
       "  <thead>\n",
       "    <tr style=\"text-align: right;\">\n",
       "      <th></th>\n",
       "      <th>total</th>\n",
       "      <th>currency</th>\n",
       "    </tr>\n",
       "  </thead>\n",
       "  <tbody>\n",
       "    <tr>\n",
       "      <th>2023-08-20 19:24:00</th>\n",
       "      <td>19137.76096500</td>\n",
       "      <td>USDT</td>\n",
       "    </tr>\n",
       "    <tr>\n",
       "      <th>2023-08-20 19:24:00</th>\n",
       "      <td>1.00000000</td>\n",
       "      <td>BTC</td>\n",
       "    </tr>\n",
       "    <tr>\n",
       "      <th>2023-08-20 19:24:00</th>\n",
       "      <td>6062.26853500</td>\n",
       "      <td>USDT</td>\n",
       "    </tr>\n",
       "    <tr>\n",
       "      <th>2023-08-20 19:24:00</th>\n",
       "      <td>1.50000000</td>\n",
       "      <td>BTC</td>\n",
       "    </tr>\n",
       "    <tr>\n",
       "      <th>2023-08-20 19:43:00</th>\n",
       "      <td>6181.17719777</td>\n",
       "      <td>USDT</td>\n",
       "    </tr>\n",
       "    <tr>\n",
       "      <th>2023-08-20 19:43:00</th>\n",
       "      <td>1.00504700</td>\n",
       "      <td>BTC</td>\n",
       "    </tr>\n",
       "    <tr>\n",
       "      <th>2023-08-20 19:43:00</th>\n",
       "      <td>6312.88314446</td>\n",
       "      <td>USDT</td>\n",
       "    </tr>\n",
       "    <tr>\n",
       "      <th>2023-08-20 19:43:00</th>\n",
       "      <td>1.00000000</td>\n",
       "      <td>BTC</td>\n",
       "    </tr>\n",
       "    <tr>\n",
       "      <th>2023-08-20 19:43:00</th>\n",
       "      <td>6312.88314446</td>\n",
       "      <td>USDT</td>\n",
       "    </tr>\n",
       "    <tr>\n",
       "      <th>2023-08-20 19:43:00</th>\n",
       "      <td>1.00000000</td>\n",
       "      <td>BTC</td>\n",
       "    </tr>\n",
       "    <tr>\n",
       "      <th>2023-08-20 19:44:00</th>\n",
       "      <td>19360.96699946</td>\n",
       "      <td>USDT</td>\n",
       "    </tr>\n",
       "    <tr>\n",
       "      <th>2023-08-20 19:44:00</th>\n",
       "      <td>0.50000000</td>\n",
       "      <td>BTC</td>\n",
       "    </tr>\n",
       "    <tr>\n",
       "      <th>2023-08-20 19:55:00</th>\n",
       "      <td>6281.76586446</td>\n",
       "      <td>USDT</td>\n",
       "    </tr>\n",
       "    <tr>\n",
       "      <th>2023-08-20 19:55:00</th>\n",
       "      <td>1.00000000</td>\n",
       "      <td>BTC</td>\n",
       "    </tr>\n",
       "    <tr>\n",
       "      <th>2023-08-20 19:55:00</th>\n",
       "      <td>19334.83472946</td>\n",
       "      <td>USDT</td>\n",
       "    </tr>\n",
       "    <tr>\n",
       "      <th>2023-08-20 19:55:00</th>\n",
       "      <td>0.50000000</td>\n",
       "      <td>BTC</td>\n",
       "    </tr>\n",
       "  </tbody>\n",
       "</table>\n",
       "</div>"
      ],
      "text/plain": [
       "                              total currency\n",
       "2023-08-20 19:24:00  19137.76096500     USDT\n",
       "2023-08-20 19:24:00      1.00000000      BTC\n",
       "2023-08-20 19:24:00   6062.26853500     USDT\n",
       "2023-08-20 19:24:00      1.50000000      BTC\n",
       "2023-08-20 19:43:00   6181.17719777     USDT\n",
       "2023-08-20 19:43:00      1.00504700      BTC\n",
       "2023-08-20 19:43:00   6312.88314446     USDT\n",
       "2023-08-20 19:43:00      1.00000000      BTC\n",
       "2023-08-20 19:43:00   6312.88314446     USDT\n",
       "2023-08-20 19:43:00      1.00000000      BTC\n",
       "2023-08-20 19:44:00  19360.96699946     USDT\n",
       "2023-08-20 19:44:00      0.50000000      BTC\n",
       "2023-08-20 19:55:00   6281.76586446     USDT\n",
       "2023-08-20 19:55:00      1.00000000      BTC\n",
       "2023-08-20 19:55:00  19334.83472946     USDT\n",
       "2023-08-20 19:55:00      0.50000000      BTC"
      ]
     },
     "metadata": {},
     "output_type": "display_data"
    }
   ],
   "source": [
    "raw_report = engine.trader.generate_account_report(Venue(venue_config.name))\n",
    "raw_report.index = raw_report.index.tz_localize(None)  # Ensure the index is in UTC\n",
    "display(raw_report[raw_report.index >= datetime.datetime(2023, 8, 20, 19, 24)][['total', 'currency']])  # Filter to show only relevant dates"
   ]
  },
  {
   "cell_type": "code",
   "execution_count": 8,
   "id": "fccba861",
   "metadata": {},
   "outputs": [],
   "source": [
    "import pandas as pd\n",
    "import numpy as np\n",
    "import quantstats as qs\n",
    "import matplotlib.pyplot as plt\n",
    "\n",
    "# First, make sure we have the price data needed for conversion\n",
    "# We can extract the BTC/USDT price from your candles dataframe\n",
    "btc_usdt_price = candles['close'].copy()\n",
    "\n",
    "# Get the account report from the engine\n",
    "# display(report.head())  # Show the first few rows to verify structure\n",
    "\n",
    "def filter_unique_currency(report_df, currency_value):\n",
    "    \"\"\"Filter the report DataFrame by currency and keep only rows with unique indices.\"\"\"\n",
    "    curr_df = report_df[report_df['currency'] == currency_value].copy()\n",
    "    unique_mask = ~curr_df.index.duplicated(keep=False)\n",
    "    return curr_df[unique_mask]\n",
    "\n",
    "btc_report = filter_unique_currency(raw_report, 'BTC')\n",
    "usdt_report = filter_unique_currency(raw_report, 'USDT')\n",
    "\n",
    "# Merge the two reports on the index\n",
    "report = pd.merge(btc_report, usdt_report, left_index=True, right_index=True, suffixes=('_btc', '_usdt'))\n",
    "\n",
    "# Get BTC/USDT prices at the same timestamps as our balance reports.\n",
    "# Convert btc_usdt_price index to UTC to match report.index timezone.\n",
    "aligned_prices = btc_usdt_price.reindex(\n",
    "    index=report.index,\n",
    "    method='ffill'  # Forward fill any missing price data\n",
    ")\n",
    "\n",
    "# Add BTC value converted to USDT\n",
    "report['total_btc'] = report['total_btc'].astype(float)\n",
    "report['total_usdt'] = report['total_usdt'].astype(float)\n",
    "portfolio_usdt = report['total_btc'] * aligned_prices + report['total_usdt']\n",
    "\n",
    "# Step 3: Calculate values to backtested portfolio and a BTC HODL benchmark\n",
    "portfolio_value = portfolio_usdt.dropna()\n",
    "benchmark_value = btc_usdt_price * start_portfolio_btc_value\n",
    "\n",
    "# Create a dataframe holding both portfolio and benchmark values at 1-minute intervals\n",
    "# First, create a common date range with 1-minute frequency spanning the data period\n",
    "min_date = min(portfolio_value.index.min(), benchmark_value.index.min())\n",
    "max_date = max(portfolio_value.index.max(), benchmark_value.index.max())\n",
    "date_range = pd.date_range(min_date, max_date, freq='1min')\n",
    "\n",
    "# Reindex both series to the common date range\n",
    "portfolio_value_reindexed = portfolio_value.reindex(date_range, method='ffill')\n",
    "benchmark_value_reindexed = benchmark_value.reindex(date_range, method='ffill')\n",
    "\n",
    "# Create dataframe with both values\n",
    "returns = pd.DataFrame({\n",
    "    'Portfolio': portfolio_value_reindexed,\n",
    "    'Benchmark': benchmark_value_reindexed\n",
    "}).dropna()\n",
    "\n",
    "# Calculate returns for both series\n",
    "returns['Portfolio Returns'] = returns['Portfolio'].pct_change().dropna()\n",
    "returns['Benchmark Returns'] = returns['Benchmark'].pct_change().dropna()\n",
    "\n"
   ]
  },
  {
   "cell_type": "markdown",
   "id": "6b286177",
   "metadata": {},
   "source": [
    "Show the problematic movements - see the second row with -30% portfolio loss, matching the strange movement at 19:44:00 observed also in `generate_account_report()`"
   ]
  },
  {
   "cell_type": "code",
   "execution_count": 9,
   "id": "4940e0f8",
   "metadata": {},
   "outputs": [
    {
     "data": {
      "application/vnd.microsoft.datawrangler.viewer.v0+json": {
       "columns": [
        {
         "name": "index",
         "rawType": "datetime64[ns]",
         "type": "datetime"
        },
        {
         "name": "Portfolio",
         "rawType": "float64",
         "type": "float"
        },
        {
         "name": "Portfolio Returns",
         "rawType": "float64",
         "type": "float"
        }
       ],
       "conversionMethod": "pd.DataFrame",
       "ref": "5166e732-8e5b-418e-836a-399caa4fb7ef",
       "rows": [
        [
         "2023-08-20 19:43:00",
         "46162.242335",
         "0.0"
        ],
        [
         "2023-08-20 19:44:00",
         "32422.11199946",
         "-0.2976486765055236"
        ],
        [
         "2023-08-20 19:45:00",
         "32422.11199946",
         "0.0"
        ],
        [
         "2023-08-20 19:46:00",
         "32422.11199946",
         "0.0"
        ],
        [
         "2023-08-20 19:47:00",
         "32422.11199946",
         "0.0"
        ],
        [
         "2023-08-20 19:48:00",
         "32422.11199946",
         "0.0"
        ],
        [
         "2023-08-20 19:49:00",
         "32422.11199946",
         "0.0"
        ],
        [
         "2023-08-20 19:50:00",
         "32422.11199946",
         "0.0"
        ],
        [
         "2023-08-20 19:51:00",
         "32422.11199946",
         "0.0"
        ],
        [
         "2023-08-20 19:52:00",
         "32422.11199946",
         "0.0"
        ],
        [
         "2023-08-20 19:53:00",
         "32422.11199946",
         "0.0"
        ],
        [
         "2023-08-20 19:54:00",
         "32422.11199946",
         "0.0"
        ],
        [
         "2023-08-20 19:55:00",
         "32422.11199946",
         "0.0"
        ],
        [
         "2023-08-20 19:56:00",
         "32422.11199946",
         "0.0"
        ],
        [
         "2023-08-20 19:57:00",
         "32422.11199946",
         "0.0"
        ],
        [
         "2023-08-20 19:58:00",
         "32422.11199946",
         "0.0"
        ],
        [
         "2023-08-20 19:59:00",
         "32422.11199946",
         "0.0"
        ],
        [
         "2023-08-20 20:00:00",
         "32422.11199946",
         "0.0"
        ],
        [
         "2023-08-20 20:01:00",
         "32422.11199946",
         "0.0"
        ],
        [
         "2023-08-20 20:02:00",
         "32422.11199946",
         "0.0"
        ],
        [
         "2023-08-20 20:03:00",
         "32422.11199946",
         "0.0"
        ],
        [
         "2023-08-20 20:04:00",
         "32422.11199946",
         "0.0"
        ],
        [
         "2023-08-20 20:05:00",
         "32422.11199946",
         "0.0"
        ],
        [
         "2023-08-20 20:06:00",
         "32422.11199946",
         "0.0"
        ],
        [
         "2023-08-20 20:07:00",
         "32422.11199946",
         "0.0"
        ],
        [
         "2023-08-20 20:08:00",
         "32422.11199946",
         "0.0"
        ],
        [
         "2023-08-20 20:09:00",
         "32422.11199946",
         "0.0"
        ],
        [
         "2023-08-20 20:10:00",
         "32422.11199946",
         "0.0"
        ],
        [
         "2023-08-20 20:11:00",
         "32422.11199946",
         "0.0"
        ],
        [
         "2023-08-20 20:12:00",
         "32422.11199946",
         "0.0"
        ],
        [
         "2023-08-20 20:13:00",
         "32422.11199946",
         "0.0"
        ],
        [
         "2023-08-20 20:14:00",
         "32422.11199946",
         "0.0"
        ],
        [
         "2023-08-20 20:15:00",
         "32422.11199946",
         "0.0"
        ],
        [
         "2023-08-20 20:16:00",
         "32422.11199946",
         "0.0"
        ],
        [
         "2023-08-20 20:17:00",
         "32422.11199946",
         "0.0"
        ],
        [
         "2023-08-20 20:18:00",
         "32422.11199946",
         "0.0"
        ],
        [
         "2023-08-20 20:19:00",
         "32422.11199946",
         "0.0"
        ],
        [
         "2023-08-20 20:20:00",
         "32422.11199946",
         "0.0"
        ],
        [
         "2023-08-20 20:21:00",
         "32422.11199946",
         "0.0"
        ],
        [
         "2023-08-20 20:22:00",
         "32422.11199946",
         "0.0"
        ],
        [
         "2023-08-20 20:23:00",
         "32422.11199946",
         "0.0"
        ],
        [
         "2023-08-20 20:24:00",
         "32422.11199946",
         "0.0"
        ],
        [
         "2023-08-20 20:25:00",
         "32422.11199946",
         "0.0"
        ],
        [
         "2023-08-20 20:26:00",
         "32422.11199946",
         "0.0"
        ],
        [
         "2023-08-20 20:27:00",
         "32422.11199946",
         "0.0"
        ],
        [
         "2023-08-20 20:28:00",
         "32422.11199946",
         "0.0"
        ],
        [
         "2023-08-20 20:29:00",
         "32422.11199946",
         "0.0"
        ],
        [
         "2023-08-20 20:30:00",
         "32422.11199946",
         "0.0"
        ],
        [
         "2023-08-20 20:31:00",
         "32422.11199946",
         "0.0"
        ],
        [
         "2023-08-20 20:32:00",
         "32422.11199946",
         "0.0"
        ]
       ],
       "shape": {
        "columns": 2,
        "rows": 4577
       }
      },
      "text/html": [
       "<div>\n",
       "<style scoped>\n",
       "    .dataframe tbody tr th:only-of-type {\n",
       "        vertical-align: middle;\n",
       "    }\n",
       "\n",
       "    .dataframe tbody tr th {\n",
       "        vertical-align: top;\n",
       "    }\n",
       "\n",
       "    .dataframe thead th {\n",
       "        text-align: right;\n",
       "    }\n",
       "</style>\n",
       "<table border=\"1\" class=\"dataframe\">\n",
       "  <thead>\n",
       "    <tr style=\"text-align: right;\">\n",
       "      <th></th>\n",
       "      <th>Portfolio</th>\n",
       "      <th>Portfolio Returns</th>\n",
       "    </tr>\n",
       "  </thead>\n",
       "  <tbody>\n",
       "    <tr>\n",
       "      <th>2023-08-20 19:43:00</th>\n",
       "      <td>46162.242335</td>\n",
       "      <td>0.000000</td>\n",
       "    </tr>\n",
       "    <tr>\n",
       "      <th>2023-08-20 19:44:00</th>\n",
       "      <td>32422.111999</td>\n",
       "      <td>-0.297649</td>\n",
       "    </tr>\n",
       "    <tr>\n",
       "      <th>2023-08-20 19:45:00</th>\n",
       "      <td>32422.111999</td>\n",
       "      <td>0.000000</td>\n",
       "    </tr>\n",
       "    <tr>\n",
       "      <th>2023-08-20 19:46:00</th>\n",
       "      <td>32422.111999</td>\n",
       "      <td>0.000000</td>\n",
       "    </tr>\n",
       "    <tr>\n",
       "      <th>2023-08-20 19:47:00</th>\n",
       "      <td>32422.111999</td>\n",
       "      <td>0.000000</td>\n",
       "    </tr>\n",
       "    <tr>\n",
       "      <th>...</th>\n",
       "      <td>...</td>\n",
       "      <td>...</td>\n",
       "    </tr>\n",
       "    <tr>\n",
       "      <th>2023-08-23 23:55:00</th>\n",
       "      <td>32422.111999</td>\n",
       "      <td>0.000000</td>\n",
       "    </tr>\n",
       "    <tr>\n",
       "      <th>2023-08-23 23:56:00</th>\n",
       "      <td>32422.111999</td>\n",
       "      <td>0.000000</td>\n",
       "    </tr>\n",
       "    <tr>\n",
       "      <th>2023-08-23 23:57:00</th>\n",
       "      <td>32422.111999</td>\n",
       "      <td>0.000000</td>\n",
       "    </tr>\n",
       "    <tr>\n",
       "      <th>2023-08-23 23:58:00</th>\n",
       "      <td>32422.111999</td>\n",
       "      <td>0.000000</td>\n",
       "    </tr>\n",
       "    <tr>\n",
       "      <th>2023-08-23 23:59:00</th>\n",
       "      <td>32422.111999</td>\n",
       "      <td>0.000000</td>\n",
       "    </tr>\n",
       "  </tbody>\n",
       "</table>\n",
       "<p>4577 rows × 2 columns</p>\n",
       "</div>"
      ],
      "text/plain": [
       "                        Portfolio  Portfolio Returns\n",
       "2023-08-20 19:43:00  46162.242335           0.000000\n",
       "2023-08-20 19:44:00  32422.111999          -0.297649\n",
       "2023-08-20 19:45:00  32422.111999           0.000000\n",
       "2023-08-20 19:46:00  32422.111999           0.000000\n",
       "2023-08-20 19:47:00  32422.111999           0.000000\n",
       "...                           ...                ...\n",
       "2023-08-23 23:55:00  32422.111999           0.000000\n",
       "2023-08-23 23:56:00  32422.111999           0.000000\n",
       "2023-08-23 23:57:00  32422.111999           0.000000\n",
       "2023-08-23 23:58:00  32422.111999           0.000000\n",
       "2023-08-23 23:59:00  32422.111999           0.000000\n",
       "\n",
       "[4577 rows x 2 columns]"
      ]
     },
     "metadata": {},
     "output_type": "display_data"
    }
   ],
   "source": [
    "\n",
    "display(returns[returns.index >= datetime.datetime(2023, 8, 20, 19, 43)][['Portfolio', 'Portfolio Returns']])  # Filter to show only relevant dates"
   ]
  },
  {
   "cell_type": "markdown",
   "id": "967722c6",
   "metadata": {},
   "source": [
    "Visualize using quantstats. Note the last version doesn't work with last version of IPython, hence the hotfix instead of the official release."
   ]
  },
  {
   "cell_type": "code",
   "execution_count": 10,
   "id": "875ff75f",
   "metadata": {},
   "outputs": [
    {
     "data": {
      "text/plain": [
       "<Figure size 1200x800 with 0 Axes>"
      ]
     },
     "metadata": {},
     "output_type": "display_data"
    },
    {
     "data": {
      "image/png": "[encoded data removed]",
      "text/plain": [
       "<Figure size 1000x600 with 1 Axes>"
      ]
     },
     "metadata": {},
     "output_type": "display_data"
    },
    {
     "name": "stdout",
     "output_type": "stream",
     "text": [
      "\n",
      "Generating QuantStats tear sheet...\n",
      "\n"
     ]
    },
    {
     "name": "stderr",
     "output_type": "stream",
     "text": [
      "C:\\Users\\Deirh\\AppData\\Roaming\\Python\\Python313\\site-packages\\quantstats\\utils.py:279: FutureWarning: The default fill_method='pad' in Series.pct_change is deprecated and will be removed in a future version. Either fill in any non-leading NA values prior to calling pct_change or specify 'fill_method=None' to not fill NA values.\n",
      "  .pct_change()\n",
      "c:\\Program Files\\Python313\\Lib\\site-packages\\numpy\\lib\\_function_base_impl.py:3045: RuntimeWarning: invalid value encountered in divide\n",
      "  c /= stddev[:, None]\n",
      "c:\\Program Files\\Python313\\Lib\\site-packages\\numpy\\lib\\_function_base_impl.py:3045: RuntimeWarning: invalid value encountered in divide\n",
      "  c /= stddev[:, None]\n"
     ]
    },
    {
     "ename": "ValueError",
     "evalue": "Cannot calculate a linear regression if all x values are identical",
     "output_type": "error",
     "traceback": [
      "\u001b[31m---------------------------------------------------------------------------\u001b[39m",
      "\u001b[31mValueError\u001b[39m                                Traceback (most recent call last)",
      "\u001b[32m~\\AppData\\Local\\Temp\\ipykernel_4228\\1347918976.py\u001b[39m in \u001b[36m?\u001b[39m\u001b[34m()\u001b[39m\n\u001b[32m      7\u001b[39m qs.plots.returns(returns[\u001b[33m'Portfolio Returns'\u001b[39m], returns[\u001b[33m'Benchmark Returns'\u001b[39m], \u001b[33m\"Strategy vs BTC/USDT\"\u001b[39m)\n\u001b[32m      8\u001b[39m \n\u001b[32m      9\u001b[39m \u001b[38;5;66;03m# Generate a more comprehensive report\u001b[39;00m\n\u001b[32m     10\u001b[39m print(\u001b[33m\"\\nGenerating QuantStats tear sheet...\\n\"\u001b[39m)\n\u001b[32m---> \u001b[39m\u001b[32m11\u001b[39m qs.reports.metrics(returns[\u001b[33m'Portfolio Returns'\u001b[39m], returns[\u001b[33m'Benchmark Returns'\u001b[39m], mode=\u001b[33m'full'\u001b[39m)\n\u001b[32m     12\u001b[39m \n\u001b[32m     13\u001b[39m \u001b[38;5;66;03m# Generate a full HTML report if needed\u001b[39;00m\n\u001b[32m     14\u001b[39m \u001b[38;5;66;03m# qs.reports.html(portfolio_returns, benchmark_returns, output='strategy_report.html', title='Strategy vs BTC/USDT')\u001b[39;00m\n",
      "\u001b[32m~\\AppData\\Roaming\\Python\\Python313\\site-packages\\quantstats\\reports.py\u001b[39m in \u001b[36m?\u001b[39m\u001b[34m(returns, benchmark, rf, display, mode, sep, compounded, periods_per_year, prepare_returns, match_dates, **kwargs)\u001b[39m\n\u001b[32m    893\u001b[39m             \u001b[38;5;28;01melse\u001b[39;00m:\n\u001b[32m    894\u001b[39m                 metrics[\u001b[33m\"Volatility (ann.) %\"\u001b[39m] = vol_\n\u001b[32m    895\u001b[39m \n\u001b[32m    896\u001b[39m             \u001b[38;5;28;01mif\u001b[39;00m isinstance(returns, _pd.Series):\n\u001b[32m--> \u001b[39m\u001b[32m897\u001b[39m                 metrics[\"R^2\"] = _stats.r_squared(\n\u001b[32m    898\u001b[39m                     df[\u001b[33m\"returns\"\u001b[39m], df[\u001b[33m\"benchmark\"\u001b[39m], prepare_returns=\u001b[38;5;28;01mFalse\u001b[39;00m\n\u001b[32m    899\u001b[39m                 )\n\u001b[32m    900\u001b[39m                 metrics[\"Information Ratio\"] = _stats.information_ratio(\n",
      "\u001b[32m~\\AppData\\Roaming\\Python\\Python313\\site-packages\\quantstats\\stats.py\u001b[39m in \u001b[36m?\u001b[39m\u001b[34m(returns, benchmark, prepare_returns)\u001b[39m\n\u001b[32m    884\u001b[39m     \u001b[33m\"\"\"Measures the straight line fit of the equity curve\"\"\"\u001b[39m\n\u001b[32m    885\u001b[39m     \u001b[38;5;66;03m# slope, intercept, r_val, p_val, std_err = _linregress(\u001b[39;00m\n\u001b[32m    886\u001b[39m     \u001b[38;5;28;01mif\u001b[39;00m prepare_returns:\n\u001b[32m    887\u001b[39m         returns = _utils._prepare_returns(returns)\n\u001b[32m--> \u001b[39m\u001b[32m888\u001b[39m     _, _, r_val, _, _ = _linregress(\n\u001b[32m    889\u001b[39m         returns, _utils._prepare_benchmark(benchmark, returns.index)\n\u001b[32m    890\u001b[39m     )\n\u001b[32m    891\u001b[39m     \u001b[38;5;28;01mreturn\u001b[39;00m r_val**\u001b[32m2\u001b[39m\n",
      "\u001b[32m~\\AppData\\Roaming\\Python\\Python313\\site-packages\\scipy\\stats\\_stats_py.py\u001b[39m in \u001b[36m?\u001b[39m\u001b[34m(x, y, alternative)\u001b[39m\n\u001b[32m  10701\u001b[39m     \u001b[38;5;28;01mif\u001b[39;00m x.size == \u001b[32m0\u001b[39m \u001b[38;5;28;01mor\u001b[39;00m y.size == \u001b[32m0\u001b[39m:\n\u001b[32m  10702\u001b[39m         \u001b[38;5;28;01mraise\u001b[39;00m ValueError(\u001b[33m\"Inputs must not be empty.\"\u001b[39m)\n\u001b[32m  10703\u001b[39m \n\u001b[32m  10704\u001b[39m     \u001b[38;5;28;01mif\u001b[39;00m np.amax(x) == np.amin(x) \u001b[38;5;28;01mand\u001b[39;00m len(x) > \u001b[32m1\u001b[39m:\n\u001b[32m> \u001b[39m\u001b[32m10705\u001b[39m         raise ValueError(\"Cannot calculate a linear regression \"\n\u001b[32m  10706\u001b[39m                          \u001b[33m\"if all x values are identical\"\u001b[39m)\n\u001b[32m  10707\u001b[39m \n\u001b[32m  10708\u001b[39m     n = len(x)\n",
      "\u001b[31mValueError\u001b[39m: Cannot calculate a linear regression if all x values are identical"
     ]
    }
   ],
   "source": [
    "\n",
    "# Step 5: Use QuantStats to visualize the performance comparison\n",
    "# Make sure QuantStats is installed: pip install quantstats\n",
    "qs.extend_pandas()  # Extend pandas functionality with quantstats methods\n",
    "\n",
    "# Plot the returns\n",
    "plt.figure(figsize=(12, 8))\n",
    "qs.plots.returns(returns['Portfolio Returns'], returns['Benchmark Returns'], \"Strategy vs BTC/USDT\")\n",
    "\n",
    "# Generate a more comprehensive report\n",
    "print(\"\\nGenerating QuantStats tear sheet...\\n\")\n",
    "qs.reports.metrics(returns['Portfolio Returns'], returns['Benchmark Returns'], mode='full')\n",
    "\n",
    "# Generate a full HTML report if needed\n",
    "# qs.reports.html(portfolio_returns, benchmark_returns, output='strategy_report.html', title='Strategy vs BTC/USDT')\n",
    "\n",
    "# Display the cumulative returns chart\n",
    "# qs.plots.drawdown(returns['Portfolio Returns'], returns['Benchmark Returns'], \"Drawdown: Strategy vs BTC/USDT\")\n",
    "plt.show()"
   ]
  }
 ],
 "metadata": {
  "kernelspec": {
   "display_name": "Python 3",
   "language": "python",
   "name": "python3"
  },
  "language_info": {
   "codemirror_mode": {
    "name": "ipython",
    "version": 3
   },
   "file_extension": ".py",
   "mimetype": "text/x-python",
   "name": "python",
   "nbconvert_exporter": "python",
   "pygments_lexer": "ipython3",
   "version": "3.13.1"
  }
 },
 "nbformat": 4,
 "nbformat_minor": 5
}
